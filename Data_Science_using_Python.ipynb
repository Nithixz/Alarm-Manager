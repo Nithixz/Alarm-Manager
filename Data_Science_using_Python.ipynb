{
  "nbformat": 4,
  "nbformat_minor": 0,
  "metadata": {
    "colab": {
      "provenance": [],
      "toc_visible": true,
      "authorship_tag": "ABX9TyNZRG96rCz5qkyHCJyzclPG",
      "include_colab_link": true
    },
    "kernelspec": {
      "name": "python3",
      "display_name": "Python 3"
    },
    "language_info": {
      "name": "python"
    }
  },
  "cells": [
    {
      "cell_type": "markdown",
      "metadata": {
        "id": "view-in-github",
        "colab_type": "text"
      },
      "source": [
        "<a href=\"https://colab.research.google.com/github/Nithixz/Alarm-Manager/blob/main/Data_Science_using_Python.ipynb\" target=\"_parent\"><img src=\"https://colab.research.google.com/assets/colab-badge.svg\" alt=\"Open In Colab\"/></a>"
      ]
    },
    {
      "cell_type": "markdown",
      "source": [
        "#Introduction"
      ],
      "metadata": {
        "id": "tFU4ucQXHGht"
      }
    },
    {
      "cell_type": "markdown",
      "source": [
        "Write a Python program to demonstrate The given year is leap year or not."
      ],
      "metadata": {
        "id": "OJRxZJ4iG8g1"
      }
    },
    {
      "cell_type": "code",
      "execution_count": null,
      "metadata": {
        "colab": {
          "base_uri": "https://localhost:8080/"
        },
        "id": "jigFzIAYEIgx",
        "outputId": "2a389de3-b06f-4944-92c3-f6561a1171e0"
      },
      "outputs": [
        {
          "output_type": "stream",
          "name": "stdout",
          "text": [
            "2023\n",
            "2023 is not a Leap Year \n"
          ]
        }
      ],
      "source": [
        "def ly():\n",
        "  leapYear = int(input())\n",
        "  if leapYear == 0:\n",
        "    print(\"Enter a VALID year\")\n",
        "    ly()\n",
        "  elif leapYear % 4 == 0 :\n",
        "    print(f\"{leapYear} is a Leap Year \")\n",
        "  else:\n",
        "    print(f\"{leapYear} is not a Leap Year \")\n",
        "ly()"
      ]
    }
  ]
}